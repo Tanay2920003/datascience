{
 "cells": [
  {
   "cell_type": "markdown",
   "id": "4cdf2fac",
   "metadata": {},
   "source": [
    "General Rules\n",
    "varience                                Meaning\n",
    ">=90%                                excellent score\n",
    ">=80%                               good often use pratice\n",
    ">=70%                              okey but may start losing info "
   ]
  },
  {
   "cell_type": "markdown",
   "id": "cf38dd54",
   "metadata": {},
   "source": [
    "PCA:-\n",
    "It is a dimensially reduction techniques used in ml and statistics.\n",
    "It help in simplifying large datasets  by traforming them into smaller set of features while"
   ]
  },
  {
   "cell_type": "code",
   "execution_count": 19,
   "id": "8a7ddbe0",
   "metadata": {},
   "outputs": [],
   "source": [
    "import pandas as pd\n",
    "import numpy as np\n",
    "import matplotlib.pyplot as plt\n",
    "import seaborn as sns\n",
    "import warnings\n",
    "warnings.filterwarnings(\"ignore\")"
   ]
  },
  {
   "cell_type": "code",
   "execution_count": 20,
   "id": "76e74037",
   "metadata": {},
   "outputs": [],
   "source": [
    "df = pd.read_csv('./files/snsdata1.csv')"
   ]
  },
  {
   "cell_type": "code",
   "execution_count": 21,
   "id": "69db59dd",
   "metadata": {},
   "outputs": [
    {
     "data": {
      "text/html": [
       "<div>\n",
       "<style scoped>\n",
       "    .dataframe tbody tr th:only-of-type {\n",
       "        vertical-align: middle;\n",
       "    }\n",
       "\n",
       "    .dataframe tbody tr th {\n",
       "        vertical-align: top;\n",
       "    }\n",
       "\n",
       "    .dataframe thead th {\n",
       "        text-align: right;\n",
       "    }\n",
       "</style>\n",
       "<table border=\"1\" class=\"dataframe\">\n",
       "  <thead>\n",
       "    <tr style=\"text-align: right;\">\n",
       "      <th></th>\n",
       "      <th>grad year</th>\n",
       "      <th>gender</th>\n",
       "      <th>age</th>\n",
       "      <th>friends</th>\n",
       "      <th>basketball</th>\n",
       "      <th>football</th>\n",
       "      <th>soccer</th>\n",
       "      <th>softball</th>\n",
       "      <th>volleyball</th>\n",
       "      <th>swimming</th>\n",
       "      <th>...</th>\n",
       "      <th>blonde</th>\n",
       "      <th>mall</th>\n",
       "      <th>shopping</th>\n",
       "      <th>clothes</th>\n",
       "      <th>hollister</th>\n",
       "      <th>abercrombie</th>\n",
       "      <th>die</th>\n",
       "      <th>death</th>\n",
       "      <th>drunk</th>\n",
       "      <th>drugs</th>\n",
       "    </tr>\n",
       "  </thead>\n",
       "  <tbody>\n",
       "    <tr>\n",
       "      <th>0</th>\n",
       "      <td>2006</td>\n",
       "      <td>M</td>\n",
       "      <td>18.982</td>\n",
       "      <td>7</td>\n",
       "      <td>0</td>\n",
       "      <td>0</td>\n",
       "      <td>0</td>\n",
       "      <td>0</td>\n",
       "      <td>0</td>\n",
       "      <td>0</td>\n",
       "      <td>...</td>\n",
       "      <td>0</td>\n",
       "      <td>0</td>\n",
       "      <td>0</td>\n",
       "      <td>0</td>\n",
       "      <td>0</td>\n",
       "      <td>0</td>\n",
       "      <td>0</td>\n",
       "      <td>0</td>\n",
       "      <td>0</td>\n",
       "      <td>0</td>\n",
       "    </tr>\n",
       "    <tr>\n",
       "      <th>1</th>\n",
       "      <td>2006</td>\n",
       "      <td>F</td>\n",
       "      <td>18.801</td>\n",
       "      <td>0</td>\n",
       "      <td>0</td>\n",
       "      <td>1</td>\n",
       "      <td>0</td>\n",
       "      <td>0</td>\n",
       "      <td>0</td>\n",
       "      <td>0</td>\n",
       "      <td>...</td>\n",
       "      <td>0</td>\n",
       "      <td>1</td>\n",
       "      <td>0</td>\n",
       "      <td>0</td>\n",
       "      <td>0</td>\n",
       "      <td>0</td>\n",
       "      <td>0</td>\n",
       "      <td>0</td>\n",
       "      <td>0</td>\n",
       "      <td>0</td>\n",
       "    </tr>\n",
       "    <tr>\n",
       "      <th>2</th>\n",
       "      <td>2006</td>\n",
       "      <td>M</td>\n",
       "      <td>18.335</td>\n",
       "      <td>69</td>\n",
       "      <td>0</td>\n",
       "      <td>1</td>\n",
       "      <td>0</td>\n",
       "      <td>0</td>\n",
       "      <td>0</td>\n",
       "      <td>0</td>\n",
       "      <td>...</td>\n",
       "      <td>0</td>\n",
       "      <td>0</td>\n",
       "      <td>0</td>\n",
       "      <td>0</td>\n",
       "      <td>0</td>\n",
       "      <td>0</td>\n",
       "      <td>0</td>\n",
       "      <td>1</td>\n",
       "      <td>0</td>\n",
       "      <td>0</td>\n",
       "    </tr>\n",
       "    <tr>\n",
       "      <th>3</th>\n",
       "      <td>2006</td>\n",
       "      <td>F</td>\n",
       "      <td>18.875</td>\n",
       "      <td>0</td>\n",
       "      <td>0</td>\n",
       "      <td>0</td>\n",
       "      <td>0</td>\n",
       "      <td>0</td>\n",
       "      <td>0</td>\n",
       "      <td>0</td>\n",
       "      <td>...</td>\n",
       "      <td>0</td>\n",
       "      <td>0</td>\n",
       "      <td>0</td>\n",
       "      <td>0</td>\n",
       "      <td>0</td>\n",
       "      <td>0</td>\n",
       "      <td>0</td>\n",
       "      <td>0</td>\n",
       "      <td>0</td>\n",
       "      <td>0</td>\n",
       "    </tr>\n",
       "    <tr>\n",
       "      <th>4</th>\n",
       "      <td>2006</td>\n",
       "      <td>NaN</td>\n",
       "      <td>18.995</td>\n",
       "      <td>10</td>\n",
       "      <td>0</td>\n",
       "      <td>0</td>\n",
       "      <td>0</td>\n",
       "      <td>0</td>\n",
       "      <td>0</td>\n",
       "      <td>0</td>\n",
       "      <td>...</td>\n",
       "      <td>0</td>\n",
       "      <td>0</td>\n",
       "      <td>2</td>\n",
       "      <td>0</td>\n",
       "      <td>0</td>\n",
       "      <td>0</td>\n",
       "      <td>0</td>\n",
       "      <td>0</td>\n",
       "      <td>1</td>\n",
       "      <td>1</td>\n",
       "    </tr>\n",
       "  </tbody>\n",
       "</table>\n",
       "<p>5 rows × 40 columns</p>\n",
       "</div>"
      ],
      "text/plain": [
       "   grad year gender     age  friends  basketball  football  soccer  softball  \\\n",
       "0       2006      M  18.982        7           0         0       0         0   \n",
       "1       2006      F  18.801        0           0         1       0         0   \n",
       "2       2006      M  18.335       69           0         1       0         0   \n",
       "3       2006      F  18.875        0           0         0       0         0   \n",
       "4       2006    NaN  18.995       10           0         0       0         0   \n",
       "\n",
       "   volleyball  swimming  ...  blonde  mall  shopping  clothes  hollister  \\\n",
       "0           0         0  ...       0     0         0        0          0   \n",
       "1           0         0  ...       0     1         0        0          0   \n",
       "2           0         0  ...       0     0         0        0          0   \n",
       "3           0         0  ...       0     0         0        0          0   \n",
       "4           0         0  ...       0     0         2        0          0   \n",
       "\n",
       "   abercrombie  die  death  drunk  drugs  \n",
       "0            0    0      0      0      0  \n",
       "1            0    0      0      0      0  \n",
       "2            0    0      1      0      0  \n",
       "3            0    0      0      0      0  \n",
       "4            0    0      0      1      1  \n",
       "\n",
       "[5 rows x 40 columns]"
      ]
     },
     "execution_count": 21,
     "metadata": {},
     "output_type": "execute_result"
    }
   ],
   "source": [
    "df.head()"
   ]
  },
  {
   "cell_type": "code",
   "execution_count": 22,
   "id": "b1aa731a",
   "metadata": {},
   "outputs": [
    {
     "name": "stdout",
     "output_type": "stream",
     "text": [
      "<class 'pandas.core.frame.DataFrame'>\n",
      "RangeIndex: 4566 entries, 0 to 4565\n",
      "Data columns (total 40 columns):\n",
      " #   Column        Non-Null Count  Dtype  \n",
      "---  ------        --------------  -----  \n",
      " 0   grad year     4566 non-null   int64  \n",
      " 1   gender        4131 non-null   object \n",
      " 2   age           3840 non-null   float64\n",
      " 3   friends       4566 non-null   int64  \n",
      " 4   basketball    4566 non-null   int64  \n",
      " 5   football      4566 non-null   int64  \n",
      " 6   soccer        4566 non-null   int64  \n",
      " 7   softball      4566 non-null   int64  \n",
      " 8   volleyball    4566 non-null   int64  \n",
      " 9   swimming      4566 non-null   int64  \n",
      " 10  cheerleading  4566 non-null   int64  \n",
      " 11  baseball      4566 non-null   int64  \n",
      " 12  tennis        4566 non-null   int64  \n",
      " 13  sports        4566 non-null   int64  \n",
      " 14  cute          4566 non-null   int64  \n",
      " 15  sex           4566 non-null   int64  \n",
      " 16  sexy          4566 non-null   int64  \n",
      " 17  hot           4566 non-null   int64  \n",
      " 18  kissed        4566 non-null   int64  \n",
      " 19  dance         4566 non-null   int64  \n",
      " 20  band          4566 non-null   int64  \n",
      " 21  marching      4566 non-null   int64  \n",
      " 22  music         4566 non-null   int64  \n",
      " 23  rock          4566 non-null   int64  \n",
      " 24  god           4566 non-null   int64  \n",
      " 25  church        4566 non-null   int64  \n",
      " 26  jesus         4566 non-null   int64  \n",
      " 27  bible         4566 non-null   int64  \n",
      " 28  hair          4566 non-null   int64  \n",
      " 29  dress         4566 non-null   int64  \n",
      " 30  blonde        4566 non-null   int64  \n",
      " 31  mall          4566 non-null   int64  \n",
      " 32  shopping      4566 non-null   int64  \n",
      " 33  clothes       4566 non-null   int64  \n",
      " 34  hollister     4566 non-null   int64  \n",
      " 35  abercrombie   4566 non-null   int64  \n",
      " 36  die           4566 non-null   int64  \n",
      " 37  death         4566 non-null   int64  \n",
      " 38  drunk         4566 non-null   int64  \n",
      " 39  drugs         4566 non-null   int64  \n",
      "dtypes: float64(1), int64(38), object(1)\n",
      "memory usage: 1.4+ MB\n"
     ]
    }
   ],
   "source": [
    "df.info()"
   ]
  },
  {
   "cell_type": "code",
   "execution_count": 23,
   "id": "4de6bd0c",
   "metadata": {},
   "outputs": [
    {
     "data": {
      "text/plain": [
       "gender\n",
       "F      3171\n",
       "M       960\n",
       "NaN     435\n",
       "Name: count, dtype: int64"
      ]
     },
     "execution_count": 23,
     "metadata": {},
     "output_type": "execute_result"
    }
   ],
   "source": [
    "df[\"gender\"].value_counts(dropna = False)"
   ]
  },
  {
   "cell_type": "code",
   "execution_count": 24,
   "id": "0f54e03e",
   "metadata": {},
   "outputs": [],
   "source": [
    "df[\"gender\"].ffill(inplace=True)"
   ]
  },
  {
   "cell_type": "code",
   "execution_count": 25,
   "id": "60cfc241",
   "metadata": {},
   "outputs": [
    {
     "data": {
      "text/plain": [
       "age\n",
       "18.289    20\n",
       "18.346    17\n",
       "18.533    16\n",
       "18.335    16\n",
       "18.316    16\n",
       "          ..\n",
       "17.985     1\n",
       "19.830     1\n",
       "21.462     1\n",
       "19.680     1\n",
       "14.962     1\n",
       "Name: count, Length: 773, dtype: int64"
      ]
     },
     "execution_count": 25,
     "metadata": {},
     "output_type": "execute_result"
    }
   ],
   "source": [
    "df[\"age\"].value_counts()"
   ]
  },
  {
   "cell_type": "code",
   "execution_count": 26,
   "id": "e5a17806",
   "metadata": {},
   "outputs": [],
   "source": [
    "df[\"age\"].fillna(df['age'].mean(), inplace = True)"
   ]
  },
  {
   "cell_type": "code",
   "execution_count": 27,
   "id": "c49aed52",
   "metadata": {},
   "outputs": [],
   "source": [
    "df[\"age\"] = round(df[\"age\"])"
   ]
  },
  {
   "cell_type": "code",
   "execution_count": 28,
   "id": "aaeafda4",
   "metadata": {},
   "outputs": [],
   "source": [
    "df.drop(columns = [\"grad year\"], inplace=True)"
   ]
  },
  {
   "cell_type": "code",
   "execution_count": 29,
   "id": "b20333f4",
   "metadata": {},
   "outputs": [],
   "source": [
    "from sklearn.preprocessing import MinMaxScaler"
   ]
  },
  {
   "cell_type": "code",
   "execution_count": 30,
   "id": "6237510b",
   "metadata": {},
   "outputs": [],
   "source": [
    "mn = MinMaxScaler()"
   ]
  },
  {
   "cell_type": "code",
   "execution_count": 1,
   "id": "4eead932",
   "metadata": {},
   "outputs": [
    {
     "ename": "NameError",
     "evalue": "name 'mn' is not defined",
     "output_type": "error",
     "traceback": [
      "\u001b[31m---------------------------------------------------------------------------\u001b[39m",
      "\u001b[31mNameError\u001b[39m                                 Traceback (most recent call last)",
      "\u001b[36mCell\u001b[39m\u001b[36m \u001b[39m\u001b[32mIn[1]\u001b[39m\u001b[32m, line 2\u001b[39m\n\u001b[32m      1\u001b[39m \u001b[38;5;66;03m# df[\"age\"] = mn.fit_transform(df[[\"age\"]])\u001b[39;00m\n\u001b[32m----> \u001b[39m\u001b[32m2\u001b[39m df[\u001b[33m\"\u001b[39m\u001b[33mfriends\u001b[39m\u001b[33m\"\u001b[39m] = \u001b[43mmn\u001b[49m.fit_transform(df[[\u001b[33m\"\u001b[39m\u001b[33mfriends\u001b[39m\u001b[33m\"\u001b[39m]])\n",
      "\u001b[31mNameError\u001b[39m: name 'mn' is not defined"
     ]
    }
   ],
   "source": [
    "# df[\"age\"] = mn.fit_transform(df[[\"age\"]])\n",
    "df[\"friends\"] = mn.fit_transform(df[[\"friends\"]])"
   ]
  },
  {
   "cell_type": "code",
   "execution_count": 32,
   "id": "88214483",
   "metadata": {},
   "outputs": [],
   "source": [
    "from sklearn.cluster import KMeans"
   ]
  },
  {
   "cell_type": "code",
   "execution_count": 33,
   "id": "ee14dd44",
   "metadata": {},
   "outputs": [],
   "source": [
    "df[\"gender\"] = np.where(df[\"gender\"] == \"n\", 1, 0)"
   ]
  },
  {
   "cell_type": "code",
   "execution_count": 34,
   "id": "0f80d7fe",
   "metadata": {},
   "outputs": [],
   "source": [
    "km = KMeans()"
   ]
  },
  {
   "cell_type": "code",
   "execution_count": 35,
   "id": "7410d71b",
   "metadata": {},
   "outputs": [],
   "source": [
    "w = []\n",
    "c = []\n",
    "for i in range(2, 28):\n",
    "    km = KMeans()\n",
    "    km.fit(df)\n",
    "    w.append(km.inertia_)\n",
    "    c.append(i)"
   ]
  },
  {
   "cell_type": "code",
   "execution_count": 36,
   "id": "73f23ed3",
   "metadata": {},
   "outputs": [
    {
     "data": {
      "image/png": "[encoded data removed]",
      "text/plain": [
       "<Figure size 1000x300 with 1 Axes>"
      ]
     },
     "metadata": {},
     "output_type": "display_data"
    }
   ],
   "source": [
    "plt.figure(figsize=(10, 3))\n",
    "plt.plot(c, w, 'go--') \n",
    "for x, y in zip(c, w):\n",
    "    plt.text(x, y, str(x))\n",
    "plt.show()"
   ]
  },
  {
   "cell_type": "code",
   "execution_count": null,
   "id": "3e0d66c4",
   "metadata": {},
   "outputs": [],
   "source": []
  }
 ],
 "metadata": {
  "kernelspec": {
   "display_name": "base",
   "language": "python",
   "name": "python3"
  },
  "language_info": {
   "codemirror_mode": {
    "name": "ipython",
    "version": 3
   },
   "file_extension": ".py",
   "mimetype": "text/x-python",
   "name": "python",
   "nbconvert_exporter": "python",
   "pygments_lexer": "ipython3",
   "version": "3.13.5"
  }
 },
 "nbformat": 4,
 "nbformat_minor": 5
}
