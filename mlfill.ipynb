{
 "cells": [
  {
   "cell_type": "code",
   "execution_count": 1,
   "id": "fb6ec0af",
   "metadata": {},
   "outputs": [],
   "source": [
    "import pandas as pd\n",
    "import seaborn as sns\n",
    "import matplotlib.pyplot as plt\n",
    "from sklearn.impute import SimpleImputer"
   ]
  },
  {
   "cell_type": "code",
   "execution_count": 23,
   "id": "24907de1",
   "metadata": {},
   "outputs": [],
   "source": [
    "ds = pd.read_csv(\"./car_done.csv\")"
   ]
  },
  {
   "cell_type": "code",
   "execution_count": 10,
   "id": "1f8f1f0a",
   "metadata": {},
   "outputs": [
    {
     "data": {
      "text/plain": [
       "Index(['Sales_in_thousands', 'four_year_resale_value', 'Price_in_thousands',\n",
       "       'Engine_size', 'Horsepower', 'Wheelbase', 'Width', 'Length',\n",
       "       'Curb_weight', 'Fuel_capacity', 'Fuel_efficiency', 'Power_perf_factor'],\n",
       "      dtype='object')"
      ]
     },
     "execution_count": 10,
     "metadata": {},
     "output_type": "execute_result"
    }
   ],
   "source": [
    "ds.select_dtypes(include = ['float64']).columns"
   ]
  },
  {
   "cell_type": "code",
   "execution_count": 24,
   "id": "4f283392",
   "metadata": {},
   "outputs": [],
   "source": [
    "si = SimpleImputer(strategy='mean')\n",
    "ar = si.fit_transform(ds[['Sales_in_thousands', 'four_year_resale_value', 'Price_in_thousands',\n",
    "       'Engine_size', 'Horsepower', 'Wheelbase', 'Width', 'Length',\n",
    "       'Curb_weight', 'Fuel_capacity', 'Fuel_efficiency', 'Power_perf_factor']])"
   ]
  },
  {
   "cell_type": "code",
   "execution_count": 25,
   "id": "18fa258e",
   "metadata": {},
   "outputs": [],
   "source": [
    "new_ds = pd.DataFrame(ar, columns=ds.select_dtypes(include = ['float64']).columns)"
   ]
  },
  {
   "cell_type": "code",
   "execution_count": 26,
   "id": "8ca71d98",
   "metadata": {},
   "outputs": [
    {
     "name": "stdout",
     "output_type": "stream",
     "text": [
      "<class 'pandas.core.frame.DataFrame'>\n",
      "RangeIndex: 157 entries, 0 to 156\n",
      "Data columns (total 12 columns):\n",
      " #   Column                  Non-Null Count  Dtype  \n",
      "---  ------                  --------------  -----  \n",
      " 0   Sales_in_thousands      157 non-null    float64\n",
      " 1   four_year_resale_value  157 non-null    float64\n",
      " 2   Price_in_thousands      157 non-null    float64\n",
      " 3   Engine_size             157 non-null    float64\n",
      " 4   Horsepower              157 non-null    float64\n",
      " 5   Wheelbase               157 non-null    float64\n",
      " 6   Width                   157 non-null    float64\n",
      " 7   Length                  157 non-null    float64\n",
      " 8   Curb_weight             157 non-null    float64\n",
      " 9   Fuel_capacity           157 non-null    float64\n",
      " 10  Fuel_efficiency         157 non-null    float64\n",
      " 11  Power_perf_factor       157 non-null    float64\n",
      "dtypes: float64(12)\n",
      "memory usage: 14.8 KB\n"
     ]
    }
   ],
   "source": [
    "new_ds.info()"
   ]
  },
  {
   "cell_type": "code",
   "execution_count": 27,
   "id": "47c891e2",
   "metadata": {},
   "outputs": [
    {
     "data": {
      "text/plain": [
       "Sales_in_thousands        0\n",
       "four_year_resale_value    0\n",
       "Price_in_thousands        0\n",
       "Engine_size               0\n",
       "Horsepower                0\n",
       "Wheelbase                 0\n",
       "Width                     0\n",
       "Length                    0\n",
       "Curb_weight               0\n",
       "Fuel_capacity             0\n",
       "Fuel_efficiency           0\n",
       "Power_perf_factor         0\n",
       "dtype: int64"
      ]
     },
     "execution_count": 27,
     "metadata": {},
     "output_type": "execute_result"
    }
   ],
   "source": [
    "new_ds.isnull().sum()"
   ]
  },
  {
   "cell_type": "code",
   "execution_count": null,
   "id": "fa2724f8",
   "metadata": {},
   "outputs": [
    {
     "data": {
      "text/plain": [
       "Sales_in_thousands         0\n",
       "four_year_resale_value    36\n",
       "Price_in_thousands         2\n",
       "Engine_size                1\n",
       "Horsepower                 1\n",
       "Wheelbase                  1\n",
       "Width                      1\n",
       "Length                     1\n",
       "Curb_weight                2\n",
       "Fuel_capacity              1\n",
       "Fuel_efficiency            3\n",
       "Power_perf_factor          2\n",
       "dtype: int64"
      ]
     },
     "execution_count": 22,
     "metadata": {},
     "output_type": "execute_result"
    }
   ],
   "source": []
  },
  {
   "cell_type": "code",
   "execution_count": null,
   "id": "5866e912",
   "metadata": {},
   "outputs": [],
   "source": []
  }
 ],
 "metadata": {
  "kernelspec": {
   "display_name": "Python 3",
   "language": "python",
   "name": "python3"
  },
  "language_info": {
   "codemirror_mode": {
    "name": "ipython",
    "version": 3
   },
   "file_extension": ".py",
   "mimetype": "text/x-python",
   "name": "python",
   "nbconvert_exporter": "python",
   "pygments_lexer": "ipython3",
   "version": "3.13.2"
  }
 },
 "nbformat": 4,
 "nbformat_minor": 5
}
