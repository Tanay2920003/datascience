{
 "cells": [
  {
   "cell_type": "code",
   "execution_count": 17,
   "id": "da2067a3",
   "metadata": {},
   "outputs": [],
   "source": [
    "t = \"Hi i am pranav\""
   ]
  },
  {
   "cell_type": "code",
   "execution_count": 18,
   "id": "607430ea",
   "metadata": {},
   "outputs": [
    {
     "name": "stdout",
     "output_type": "stream",
     "text": [
      "Hi i am pranav\n",
      "HI I AM PRANAV\n",
      "hi i am pranav\n",
      "Hi I Am Pranav\n",
      "hI I AM PRANAV\n",
      "Hi i am Pranav\n",
      "3\n",
      "1\n",
      "1\n",
      "True\n"
     ]
    }
   ],
   "source": [
    "#build in function for string manupulation\n",
    "print(t.capitalize())  # Capitalizes the first letter of the string \n",
    "print(t.upper())       # Converts the entire string to uppercase\n",
    "print(t.lower())       # Converts the entire string to lowercase\n",
    "print(t.title())       # Capitalizes the first letter of each word in the string\n",
    "print(t.swapcase())    # Swaps the case of each letter in the string\n",
    "print(t.replace(\"pranav\", \"Pranav\"))  # Replaces 'pranav' with 'Pranav'\n",
    "print(t.count(\"a\"))    # Counts the occurrences of 'a' in the string\n",
    "print(t.find(\"i\"))     # Finds the first occurrence of 'i' and returns its index\n",
    "print(t.index(\"i\"))    # Similar to find, but raises an error if 'i' is not found\n",
    "print(t.startswith(\"Hi\"))  # Checks if the string starts with 'Hi'"
   ]
  },
  {
   "cell_type": "code",
   "execution_count": 19,
   "id": "c7e5b13c",
   "metadata": {},
   "outputs": [
    {
     "data": {
      "text/plain": [
       "['Hi', 'i', 'am', 'pranav']"
      ]
     },
     "execution_count": 19,
     "metadata": {},
     "output_type": "execute_result"
    }
   ],
   "source": [
    "t.split()"
   ]
  },
  {
   "cell_type": "code",
   "execution_count": 33,
   "metadata": {},
   "outputs": [
    {
     "data": {
      "text/plain": [
       "['hello', 'i', 'am', 'pranav']"
      ]
     },
     "execution_count": 33,
     "metadata": {},
     "output_type": "execute_result"
    }
   ],
   "source": [
    "# Splits the string into a list of words\n",
    "t=\" hello i am pranav\"\n",
    "t.strip().split()      # Removes leading/trailing whitespace, then splits by whitespace\n",
    " # Finds the first occurrence of 'i' and returns its index"
   ]
  },
  {
   "cell_type": "code",
   "execution_count": 30,
   "id": "1ac51304",
   "metadata": {},
   "outputs": [
    {
     "data": {
      "text/plain": [
       "7"
      ]
     },
     "execution_count": 30,
     "metadata": {},
     "output_type": "execute_result"
    }
   ],
   "source": [
    "t.find(\"i\") "
   ]
  },
  {
   "cell_type": "code",
   "execution_count": 34,
   "id": "659b9845",
   "metadata": {},
   "outputs": [],
   "source": [
    "t=\"python@gmail.com\""
   ]
  },
  {
   "cell_type": "code",
   "execution_count": 36,
   "id": "5a830738",
   "metadata": {},
   "outputs": [
    {
     "data": {
      "text/plain": [
       "6"
      ]
     },
     "execution_count": 36,
     "metadata": {},
     "output_type": "execute_result"
    }
   ],
   "source": [
    "t.find('@gmail.com')  # Finds the index of '@gmail.com' in the string"
   ]
  },
  {
   "cell_type": "code",
   "execution_count": 39,
   "id": "facd5418",
   "metadata": {},
   "outputs": [
    {
     "data": {
      "text/plain": [
       "'python@yahoo.com'"
      ]
     },
     "execution_count": 39,
     "metadata": {},
     "output_type": "execute_result"
    }
   ],
   "source": [
    "t.replace('@gmail.com', '@yahoo.com')  # Replaces '@gmail.com' with '@yahoo.com'"
   ]
  },
  {
   "cell_type": "code",
   "execution_count": 47,
   "id": "c8979453",
   "metadata": {},
   "outputs": [
    {
     "data": {
      "text/plain": [
       "'PYTHON'"
      ]
     },
     "execution_count": 47,
     "metadata": {},
     "output_type": "execute_result"
    }
   ],
   "source": [
    "t[:6].upper() # Takes the first 6 characters and converts them to uppercase"
   ]
  },
  {
   "cell_type": "code",
   "execution_count": 90,
   "id": "868892e6",
   "metadata": {},
   "outputs": [
    {
     "name": "stdout",
     "output_type": "stream",
     "text": [
      "[1, 2, 3, 'pranav', 'hello', 4.5, [1, 2, 3]]\n"
     ]
    }
   ],
   "source": [
    "# List in Python\n",
    "# A list is a collection of items that can be of different types, including numbers, strings\n",
    "# it is an ordered collection of emlements that can be stored all type of data and it is mutable.\n",
    "l = [1, 2, 3, \"pranav\", \"hello\", 4.5, [1, 2, 3]]\n",
    "print(l)  # Prints the entire list"
   ]
  },
  {
   "cell_type": "code",
   "execution_count": null,
   "id": "54351835",
   "metadata": {},
   "outputs": [
    {
     "data": {
      "text/plain": [
       "[1,\n",
       " 2,\n",
       " 'inserted item',\n",
       " 'inserted item',\n",
       " 'inserted item',\n",
       " 3,\n",
       " 'pranav',\n",
       " 'hello',\n",
       " 4.5,\n",
       " [1, 2, 3],\n",
       " 'new item',\n",
       " 'new item',\n",
       " 'new item',\n",
       " 'new item',\n",
       " 'new item',\n",
       " 'new item']"
      ]
     },
     "execution_count": 57,
     "metadata": {},
     "output_type": "execute_result"
    }
   ],
   "source": [
    "l.append(\"new item\")  # Adds a new item to the end of the list\n"
   ]
  },
  {
   "cell_type": "code",
   "execution_count": 66,
   "id": "fb2e6157",
   "metadata": {},
   "outputs": [],
   "source": [
    "l.insert(2, \"inserted item\")  # Inserts an item at index 2\n"
   ]
  },
  {
   "cell_type": "code",
   "execution_count": 80,
   "id": "453919a1",
   "metadata": {},
   "outputs": [
    {
     "data": {
      "text/plain": [
       "1"
      ]
     },
     "execution_count": 80,
     "metadata": {},
     "output_type": "execute_result"
    }
   ],
   "source": [
    "l.pop(0)  # Removes and returns the last item from the list"
   ]
  },
  {
   "cell_type": "code",
   "execution_count": 84,
   "id": "92ae9456",
   "metadata": {},
   "outputs": [],
   "source": [
    "l.extend([10, 20, \"multiple\", \"elements\"])  # Adds multiple elements to the end of the list\n"
   ]
  },
  {
   "cell_type": "code",
   "execution_count": 91,
   "id": "9de2f622",
   "metadata": {},
   "outputs": [
    {
     "data": {
      "text/plain": [
       "7"
      ]
     },
     "execution_count": 91,
     "metadata": {},
     "output_type": "execute_result"
    }
   ],
   "source": [
    "len(l)"
   ]
  },
  {
   "cell_type": "code",
   "execution_count": 92,
   "id": "93c7517d",
   "metadata": {},
   "outputs": [],
   "source": [
    "h = [2,3,4,5,[\"hello\", \"world\"], 6,7,8, \"this is a list\"]"
   ]
  },
  {
   "cell_type": "code",
   "execution_count": 98,
   "id": "4dd0e50c",
   "metadata": {},
   "outputs": [
    {
     "data": {
      "text/plain": [
       "'this is a list'"
      ]
     },
     "execution_count": 98,
     "metadata": {},
     "output_type": "execute_result"
    }
   ],
   "source": [
    "h[8]# Accesses the first element of the nested list at index 4"
   ]
  },
  {
   "cell_type": "code",
   "execution_count": 117,
   "id": "0561fcb6",
   "metadata": {},
   "outputs": [],
   "source": [
    "h[4][1]= 'ho' # Replaces 'hello' with 'how' in the first element of the nested list"
   ]
  },
  {
   "cell_type": "code",
   "execution_count": null,
   "id": "bb82717e",
   "metadata": {},
   "outputs": [
    {
     "name": "stdout",
     "output_type": "stream",
     "text": [
      "(1, 2, 3, 'pranav', 'hello', 4.5, [1, 2, 3])\n"
     ]
    }
   ],
   "source": [
    "#tuple in python\n",
    "# A tuple is similar to a list, but it is immutable, meaning its elements cannot be changed after creation.\n",
    "# Tuples are defined using parentheses () instead of square brackets [].    \n",
    "tup = (1, 2, 3, \"pranav\", \"hello\", 4.5, [1, 2, 3])\n",
    "print(tup)  # Prints the entire tuple\n",
    "print(tup[0])  # Accesses the first element of the tuple\n",
    "print(tup[3])  # Accesses the fourth element of the tuple\n",
    "print(tup[6][1])  # Accesses the second element of the nested list within the tuple\n",
    "print(tup.count(\"pranav\"))  # Counts the occurrences of 'pranav' in the tuple\n",
    "print(tup.index(\"hello\"))  # Finds the index of 'hello' in the tuple\n"
   ]
  },
  {
   "cell_type": "code",
   "execution_count": 120,
   "id": "d6329725",
   "metadata": {},
   "outputs": [],
   "source": [
    "# set\n",
    "# A set is an unordered collection of unique items. It is defined using curly braces {}.\n",
    "s = {1, 2, 3, \"pranav\", \"hello\", 4.5}\n"
   ]
  },
  {
   "cell_type": "code",
   "execution_count": 122,
   "id": "3538ad48",
   "metadata": {},
   "outputs": [
    {
     "data": {
      "text/plain": [
       "'pranav'"
      ]
     },
     "execution_count": 122,
     "metadata": {},
     "output_type": "execute_result"
    }
   ],
   "source": [
    "s.pop()\n"
   ]
  },
  {
   "cell_type": "code",
   "execution_count": 126,
   "id": "d83f8cfd",
   "metadata": {},
   "outputs": [],
   "source": [
    "s.remove(1)"
   ]
  },
  {
   "cell_type": "code",
   "execution_count": 129,
   "id": "09d20c86",
   "metadata": {},
   "outputs": [],
   "source": [
    "s.update({10, 20, \"new set item\"})  # Adds multiple elements to the set"
   ]
  },
  {
   "cell_type": "code",
   "execution_count": null,
   "id": "d5e72771",
   "metadata": {},
   "outputs": [],
   "source": [
    "s1 = {1, 2, 3, 4, 5}\n",
    "s2 = {4, 5, 6, 7, 8}\n",
    "s3 = s1.union(s2)  # Combines two sets, removing duplicates\n",
    "s4 = s1.intersection(s2)  # Finds common elements between two sets\n",
    "s5 = s1.difference(s2)  # Finds elements in s1 that are not in s2\n",
    "s6 = s1.symmetric_difference(s2)  # Finds elements that are in either set but not both"
   ]
  },
  {
   "cell_type": "code",
   "execution_count": null,
   "id": "6b737c1b",
   "metadata": {},
   "outputs": [],
   "source": [
    "'''list                        tuple                               set\n",
    "ordered                  ordered                             unordered\n",
    "mutable                  immutable                           mutable    \n",
    "[]                        ()                                   {}\n",
    "contains duplicates   contains duplicates               no duplicates allowed\n",
    "indexing/slicing       indexing/slicing                   no indexing/slicing'''"
   ]
  },
  {
   "cell_type": "code",
   "execution_count": null,
   "id": "8dae5bfa",
   "metadata": {},
   "outputs": [],
   "source": [
    "#Dictionary\n",
    "# A dictionary is a collection of key-value pairs. It is defined using curly braces {} with \n",
    "# keys and values separated by colons.\n",
    "d = {\n",
    "    \"name\": \"pranav\",\n",
    "    \"age\": 25,\n",
    "    \"city\": \"pune\",\n",
    "    \"skills\": [\"python\", \"java\", \"c++\"]\n",
    "}"
   ]
  },
  {
   "cell_type": "code",
   "execution_count": null,
   "id": "a6740e0e",
   "metadata": {},
   "outputs": [],
   "source": [
    "#remove a value from dictionary from skills\n",
    "d[\"skills\"].remove(\"java\")  # Removes 'java' from the list of skills"
   ]
  },
  {
   "cell_type": "code",
   "execution_count": null,
   "id": "6f77ebf5",
   "metadata": {},
   "outputs": [],
   "source": [
    "d[\"skills\"][0].insert(\"javascript\")  # Adds 'javascript' to the list of skills"
   ]
  },
  {
   "cell_type": "code",
   "execution_count": 2,
   "id": "adb07e6f",
   "metadata": {},
   "outputs": [
    {
     "name": "stdout",
     "output_type": "stream",
     "text": [
      "hello\n"
     ]
    }
   ],
   "source": [
    "print(\"hello\")\n"
   ]
  }
 ],
 "metadata": {
  "kernelspec": {
   "display_name": "Python 3",
   "language": "python",
   "name": "python3"
  },
  "language_info": {
   "codemirror_mode": {
    "name": "ipython",
    "version": 3
   },
   "file_extension": ".py",
   "mimetype": "text/x-python",
   "name": "python",
   "nbconvert_exporter": "python",
   "pygments_lexer": "ipython3",
   "version": "3.13.2"
  }
 },
 "nbformat": 4,
 "nbformat_minor": 5
}
