{
 "cells": [
  {
   "cell_type": "markdown",
   "id": "6bec21b0-7a1f-4c37-8021-4dca124161a9",
   "metadata": {},
   "source": [
    " # NLP==>IT IS A FIELD OF AI THAT FOCUSES ON THE INTERACTION BETWEEN MACHINE AND HUMAN LANGUAGE.IT ENABLES MACHINE TO READ,UNDERSTAND AND GENERATE HUMAN LANGUAGE.\n",
    "# TASK IN NLP\n",
    "1--TEXT CLASSIFICATION\n",
    "2--SENTIMENTAL ANALYSIS\n",
    "3--LANGUAGE TRANSLATION\n",
    "4--SPEECH RECOGNITION\n",
    "5--CHAT BOT\n",
    "CORPUS==> A LARGE COLLECTION OF TEXT DATA USED FOR TRAINING OR ANALYZING LANGUAGE MODEL.IT IS A SET OF SENTENCES.\n",
    "# TOKENIZATION\n",
    "IT IS A PROCESS OF BREAKING TEXT INTO SMALLER PARTS CALLED TOKEN.\n",
    "IT CAN BE WORDS,CHARACTERS OR SUBWORDS.\n",
    "EXAMPLE== THERE ARE TWO CAT AND DOG\n",
    "TOKEN--> [THERE,ARE,TWO,CAT AND ,DOG]\n"
   ]
  },
  {
   "cell_type": "code",
   "execution_count": 1,
   "id": "8da32565-8fe8-4821-85c8-36deeb170e8c",
   "metadata": {},
   "outputs": [],
   "source": [
    "from nltk.tokenize import word_tokenize\n",
    "from nltk.tokenize import sent_tokenize"
   ]
  },
  {
   "cell_type": "code",
   "execution_count": 2,
   "id": "42d61814-89f1-4e8b-b2e2-2b656fd1d948",
   "metadata": {},
   "outputs": [],
   "source": [
    "corpus=\"\"\"Research, broadly defined, is a systematic investigation into and study of materials and sources in order to establish facts and reach new conclusions. It involves a meticulous process of inquiry, analysis, and interpretation, aiming to expand our understanding of a particular subject or phenomenon. This can involve exploring existing knowledge, synthesizing it in new ways, or generating entirely novel insights. Effective research requires careful planning, including identifying a clear research question or problem, developing a suitable methodology, and gathering and analyzing relevant data. Ultimately, the goal of research is to contribute to the advancement of knowledge and potentially inform practical applications or policy decisions\"\"\""
   ]
  },
  {
   "cell_type": "code",
   "execution_count": 3,
   "id": "d43e6449-3a63-4b5f-a28e-9f1a12b7382b",
   "metadata": {},
   "outputs": [
    {
     "name": "stderr",
     "output_type": "stream",
     "text": [
      "[nltk_data] Downloading package punkt_tab to C:\\Users\\Pranab\n",
      "[nltk_data]     Tiwari\\AppData\\Roaming\\nltk_data...\n",
      "[nltk_data]   Unzipping tokenizers\\punkt_tab.zip.\n"
     ]
    },
    {
     "data": {
      "text/plain": [
       "True"
      ]
     },
     "execution_count": 3,
     "metadata": {},
     "output_type": "execute_result"
    }
   ],
   "source": [
    "import nltk\n",
    ">>> nltk.download('punkt_tab')"
   ]
  },
  {
   "cell_type": "code",
   "execution_count": 4,
   "id": "537f6bf0-a50b-45e3-aad7-230d7ece80c4",
   "metadata": {},
   "outputs": [],
   "source": [
    "st=sent_tokenize(corpus)"
   ]
  },
  {
   "cell_type": "code",
   "execution_count": 5,
   "id": "6ed8ebaa-3fed-4a4d-9932-5a3ccf5f1c7e",
   "metadata": {},
   "outputs": [
    {
     "data": {
      "text/plain": [
       "'Research, broadly defined, is a systematic investigation into and study of materials and sources in order to establish facts and reach new conclusions.'"
      ]
     },
     "execution_count": 5,
     "metadata": {},
     "output_type": "execute_result"
    }
   ],
   "source": [
    "st[0]"
   ]
  },
  {
   "cell_type": "code",
   "execution_count": 6,
   "id": "57febd40-6faa-43d8-8262-8021012b1599",
   "metadata": {},
   "outputs": [],
   "source": [
    "wt=word_tokenize(corpus)"
   ]
  },
  {
   "cell_type": "code",
   "execution_count": 7,
   "id": "61dfbf97-70c0-4c39-b2bc-a77815d5e591",
   "metadata": {},
   "outputs": [
    {
     "data": {
      "text/plain": [
       "['Research',\n",
       " ',',\n",
       " 'broadly',\n",
       " 'defined',\n",
       " ',',\n",
       " 'is',\n",
       " 'a',\n",
       " 'systematic',\n",
       " 'investigation',\n",
       " 'into',\n",
       " 'and',\n",
       " 'study',\n",
       " 'of',\n",
       " 'materials',\n",
       " 'and',\n",
       " 'sources',\n",
       " 'in',\n",
       " 'order',\n",
       " 'to',\n",
       " 'establish',\n",
       " 'facts',\n",
       " 'and',\n",
       " 'reach',\n",
       " 'new',\n",
       " 'conclusions',\n",
       " '.',\n",
       " 'It',\n",
       " 'involves',\n",
       " 'a',\n",
       " 'meticulous',\n",
       " 'process',\n",
       " 'of',\n",
       " 'inquiry',\n",
       " ',',\n",
       " 'analysis',\n",
       " ',',\n",
       " 'and',\n",
       " 'interpretation',\n",
       " ',',\n",
       " 'aiming',\n",
       " 'to',\n",
       " 'expand',\n",
       " 'our',\n",
       " 'understanding',\n",
       " 'of',\n",
       " 'a',\n",
       " 'particular',\n",
       " 'subject',\n",
       " 'or',\n",
       " 'phenomenon',\n",
       " '.',\n",
       " 'This',\n",
       " 'can',\n",
       " 'involve',\n",
       " 'exploring',\n",
       " 'existing',\n",
       " 'knowledge',\n",
       " ',',\n",
       " 'synthesizing',\n",
       " 'it',\n",
       " 'in',\n",
       " 'new',\n",
       " 'ways',\n",
       " ',',\n",
       " 'or',\n",
       " 'generating',\n",
       " 'entirely',\n",
       " 'novel',\n",
       " 'insights',\n",
       " '.',\n",
       " 'Effective',\n",
       " 'research',\n",
       " 'requires',\n",
       " 'careful',\n",
       " 'planning',\n",
       " ',',\n",
       " 'including',\n",
       " 'identifying',\n",
       " 'a',\n",
       " 'clear',\n",
       " 'research',\n",
       " 'question',\n",
       " 'or',\n",
       " 'problem',\n",
       " ',',\n",
       " 'developing',\n",
       " 'a',\n",
       " 'suitable',\n",
       " 'methodology',\n",
       " ',',\n",
       " 'and',\n",
       " 'gathering',\n",
       " 'and',\n",
       " 'analyzing',\n",
       " 'relevant',\n",
       " 'data',\n",
       " '.',\n",
       " 'Ultimately',\n",
       " ',',\n",
       " 'the',\n",
       " 'goal',\n",
       " 'of',\n",
       " 'research',\n",
       " 'is',\n",
       " 'to',\n",
       " 'contribute',\n",
       " 'to',\n",
       " 'the',\n",
       " 'advancement',\n",
       " 'of',\n",
       " 'knowledge',\n",
       " 'and',\n",
       " 'potentially',\n",
       " 'inform',\n",
       " 'practical',\n",
       " 'applications',\n",
       " 'or',\n",
       " 'policy',\n",
       " 'decisions']"
      ]
     },
     "execution_count": 7,
     "metadata": {},
     "output_type": "execute_result"
    }
   ],
   "source": [
    "wt"
   ]
  },
  {
   "cell_type": "markdown",
   "id": "b9f58872-6a89-4ba9-8509-e7d76c8be735",
   "metadata": {},
   "source": [
    "# STEMMMING\n",
    "IT IS A PROCESS OF REMOVING SUFFIXES FROM A WORD TO REDUCE IT TO ITS BASE OR ROOT FORM.\n",
    "IT DOESN'T ALWAYS GIVE A REAL WORD. JUST A ROUGH ROOT WORD AND IT IS A FAST METHOD.\n",
    "EXAMPLE= PLAYING PLAYS PLAYED --->   PLAY\n",
    "         WRITING WRITER WRITES--->   WRITE\n",
    "         JUMPED JUMPING  --------> JUMP"
   ]
  },
  {
   "cell_type": "code",
   "execution_count": 8,
   "id": "65ef7b7f-c377-46fd-805d-f2076e9a2147",
   "metadata": {},
   "outputs": [],
   "source": [
    "from nltk.stem import LancasterStemmer,PorterStemmer,RegexpStemmer"
   ]
  },
  {
   "cell_type": "code",
   "execution_count": 9,
   "id": "6525f800-cce3-4a9b-a8af-392c93be0409",
   "metadata": {},
   "outputs": [],
   "source": [
    "ls=LancasterStemmer()"
   ]
  },
  {
   "cell_type": "code",
   "execution_count": 10,
   "id": "85109e6c-c73f-457d-938f-6913bc376efc",
   "metadata": {},
   "outputs": [],
   "source": [
    "ps=PorterStemmer()"
   ]
  },
  {
   "cell_type": "code",
   "execution_count": 11,
   "id": "2fc2602b-f689-4c8b-a2c6-f52dae93b27f",
   "metadata": {},
   "outputs": [
    {
     "data": {
      "text/plain": [
       "'jump'"
      ]
     },
     "execution_count": 11,
     "metadata": {},
     "output_type": "execute_result"
    }
   ],
   "source": [
    "ls.stem(\"jumping\")"
   ]
  },
  {
   "cell_type": "code",
   "execution_count": 12,
   "id": "d26e3475-7738-463b-b4dd-b159f404b7b5",
   "metadata": {},
   "outputs": [],
   "source": [
    "words=[\"playing\",\"plays\",\"writing\",\"jumped\",\"jumping\",\"walked\",\"running\"]"
   ]
  },
  {
   "cell_type": "code",
   "execution_count": 13,
   "id": "44a33aba-86fe-415e-900b-7f9a0280d93a",
   "metadata": {},
   "outputs": [
    {
     "name": "stdout",
     "output_type": "stream",
     "text": [
      "playing --------> play\n",
      "plays --------> play\n",
      "writing --------> writ\n",
      "jumped --------> jump\n",
      "jumping --------> jump\n",
      "walked --------> walk\n",
      "running --------> run\n"
     ]
    }
   ],
   "source": [
    "for i in words:\n",
    "    print(i,\"-------->\",ls.stem(i))"
   ]
  },
  {
   "cell_type": "code",
   "execution_count": 14,
   "id": "29a389f3-f7b5-4230-bbce-5f0886391fe9",
   "metadata": {},
   "outputs": [
    {
     "name": "stdout",
     "output_type": "stream",
     "text": [
      "playing -----> play\n",
      "plays -----> play\n",
      "writing -----> write\n",
      "jumped -----> jump\n",
      "jumping -----> jump\n",
      "walked -----> walk\n",
      "running -----> run\n"
     ]
    }
   ],
   "source": [
    "for i in words:\n",
    "    print(i,\"----->\",ps.stem(i))"
   ]
  },
  {
   "cell_type": "code",
   "execution_count": 15,
   "id": "75e111c2-fa65-4b0c-87ab-b72bc97b2bfc",
   "metadata": {},
   "outputs": [],
   "source": [
    "r=[\"flying\",\"flyed\",\"history\",\"typing\"]\n"
   ]
  },
  {
   "cell_type": "code",
   "execution_count": 16,
   "id": "8ad297bc-6211-40d8-a697-e19d3acc4181",
   "metadata": {},
   "outputs": [
    {
     "name": "stdout",
     "output_type": "stream",
     "text": [
      "flying -----> fli\n",
      "flyed -----> fli\n",
      "history -----> histori\n",
      "typing -----> type\n"
     ]
    }
   ],
   "source": [
    "for i in r:\n",
    "    print(i,\"----->\",ps.stem(i))"
   ]
  },
  {
   "cell_type": "code",
   "execution_count": 17,
   "id": "b8cc31a5-0551-4148-a839-1064e2e41154",
   "metadata": {},
   "outputs": [],
   "source": [
    "rs=RegexpStemmer(\"ing$|ed$|s$|es$|\",min=4)"
   ]
  },
  {
   "cell_type": "code",
   "execution_count": 18,
   "id": "d15357a4-a563-46e3-bb93-a8a3c3162672",
   "metadata": {},
   "outputs": [],
   "source": [
    "words.append(\"played\")"
   ]
  },
  {
   "cell_type": "code",
   "execution_count": 19,
   "id": "eadfeb49-1851-4578-8794-dbf0373e2a78",
   "metadata": {},
   "outputs": [
    {
     "data": {
      "text/plain": [
       "'walk'"
      ]
     },
     "execution_count": 19,
     "metadata": {},
     "output_type": "execute_result"
    }
   ],
   "source": [
    "rs.stem('walking')"
   ]
  },
  {
   "cell_type": "code",
   "execution_count": 20,
   "id": "5cb5fb12-ece3-4d85-a668-1d19dfa6e8b1",
   "metadata": {},
   "outputs": [
    {
     "data": {
      "text/plain": [
       "'ingwalk'"
      ]
     },
     "execution_count": 20,
     "metadata": {},
     "output_type": "execute_result"
    }
   ],
   "source": [
    "rs.stem(\"ingwalking\")"
   ]
  },
  {
   "cell_type": "code",
   "execution_count": 21,
   "id": "948ade9d-1ad3-4e14-b545-abf601b53341",
   "metadata": {},
   "outputs": [
    {
     "data": {
      "text/plain": [
       "'aman'"
      ]
     },
     "execution_count": 21,
     "metadata": {},
     "output_type": "execute_result"
    }
   ],
   "source": [
    "rs.stem(\"amaned\")"
   ]
  },
  {
   "cell_type": "code",
   "execution_count": 22,
   "id": "0943be1b-ffc9-4945-9d1c-2efb213f8269",
   "metadata": {},
   "outputs": [
    {
     "name": "stdout",
     "output_type": "stream",
     "text": [
      "playing -----> play\n",
      "plays -----> play\n",
      "writing -----> writ\n",
      "jumped -----> jump\n",
      "jumping -----> jump\n",
      "walked -----> walk\n",
      "running -----> runn\n",
      "played -----> play\n"
     ]
    }
   ],
   "source": [
    "for i in words:\n",
    "    print(i,\"----->\",rs.stem(i))"
   ]
  },
  {
   "cell_type": "markdown",
   "id": "3dbae8ad-0a5c-45e0-9fc8-507e94b6eaa5",
   "metadata": {},
   "source": [
    "# REGEXP STEMMING\n",
    "IT WORK BY APPLYING A REGULAR EXPRESSIONS PATTERN TO EACH WORD TO REMOVE SUFFIXES OR SPECIAL ENDINGS AND OPTIONALLY ENFORCES A MINIMUM STEM LENGTH.\n",
    "# PARAMETERS\n",
    "REG---> IT USE THE  TEXT TO REMOVE SUFFIXES\n",
    "MIN--> MINIMUM LENGTH A STEMMED WORD MUST HAVE."
   ]
  },
  {
   "cell_type": "markdown",
   "id": "0f70a58d-1be7-4c8b-bc79-036940a081e4",
   "metadata": {},
   "source": [
    "WORDNET LEMMATIZER---> IT IS A TOOL IN NLP THAT REDUCES A WORD TO ITS BASE OR DICTIONARY FORM KNOWN AS LEMMA"
   ]
  },
  {
   "cell_type": "code",
   "execution_count": 23,
   "id": "8b59a4b9-eaa9-4062-80b8-258bc68cf4ee",
   "metadata": {},
   "outputs": [],
   "source": [
    "from nltk.stem import WordNetLemmatizer"
   ]
  },
  {
   "cell_type": "code",
   "execution_count": 24,
   "id": "e326f394-8b06-48f3-ac84-4f9286218c5a",
   "metadata": {},
   "outputs": [],
   "source": [
    "w1=WordNetLemmatizer()"
   ]
  },
  {
   "cell_type": "code",
   "execution_count": 25,
   "id": "83c7c1d9-e7b0-46bf-8a33-037fb935a838",
   "metadata": {},
   "outputs": [
    {
     "name": "stderr",
     "output_type": "stream",
     "text": [
      "[nltk_data] Downloading package wordnet to C:\\Users\\Pranab\n",
      "[nltk_data]     Tiwari\\AppData\\Roaming\\nltk_data...\n"
     ]
    },
    {
     "data": {
      "text/plain": [
       "True"
      ]
     },
     "execution_count": 25,
     "metadata": {},
     "output_type": "execute_result"
    }
   ],
   "source": [
    ">>> import nltk\n",
    ">>> nltk.download('wordnet')"
   ]
  },
  {
   "cell_type": "code",
   "execution_count": 26,
   "id": "5211c8db-e036-416a-971f-1372f90ae71e",
   "metadata": {},
   "outputs": [
    {
     "data": {
      "text/plain": [
       "'write'"
      ]
     },
     "execution_count": 26,
     "metadata": {},
     "output_type": "execute_result"
    }
   ],
   "source": [
    "w1.lemmatize(\"writing\",pos = \"v\")"
   ]
  },
  {
   "cell_type": "markdown",
   "id": "06040bb1-ee36-484e-9632-4de8ffac1be6",
   "metadata": {},
   "source": [
    "STEPS FOR TEXT PREPROCESSING\n",
    "1--> CONVERT TEXT INTO LOWERCASE\n",
    "2--> TOKENIZATION\n",
    "3--> REGULAR EXPRESSION TO REMOVE (ALL SPECIAL CHARACTERS)\n",
    "4--> REMOVE ALL STOP WORDS( IS AM ARE THE ABOVE ALL)\n",
    "5--> STEMMING OR LEMMITIZATION\n",
    "6--> TEXT TO VECTORS (ONE HOT ENCODER,BAG OR WORDS,TF-IDF(TERM FREQUENCY INVERSE DOCUMENT FREQUENCY))"
   ]
  },
  {
   "cell_type": "code",
   "execution_count": 27,
   "id": "9e8d83cf-9503-4fe5-abc3-64ca5dd7cde1",
   "metadata": {},
   "outputs": [],
   "source": [
    "corpus=\"\"\" HELLO MY NAME IS TARUN MISHRA.\n",
    "I AM CURRENTLY IN BTECH 4TH YEAR.\n",
    "I AM DOING SUMMER INTERNSHIP IN DATA  SCIENCE AND AI.\n",
    "AND RIGHT NOW I AM A FREELANCER\"\"\""
   ]
  },
  {
   "cell_type": "code",
   "execution_count": 28,
   "id": "f16f8e18-a674-49b7-9eef-ad4de87af2e8",
   "metadata": {},
   "outputs": [],
   "source": [
    "text=corpus.lower() \n",
    "# lowercase the whole text"
   ]
  },
  {
   "cell_type": "code",
   "execution_count": 29,
   "id": "385de708-06d6-404b-b9e6-c74a366dad2e",
   "metadata": {},
   "outputs": [],
   "source": [
    "token = nltk.word_tokenize(text)\n",
    "# word tokenize"
   ]
  },
  {
   "cell_type": "code",
   "execution_count": 30,
   "id": "9a775f11-9f2e-4934-9b36-b8530722e4a5",
   "metadata": {},
   "outputs": [],
   "source": [
    "from nltk.corpus import stopwords"
   ]
  },
  {
   "cell_type": "code",
   "execution_count": 31,
   "id": "77f67a1b-70e3-4071-a23e-152686660e0e",
   "metadata": {},
   "outputs": [
    {
     "name": "stderr",
     "output_type": "stream",
     "text": [
      "[nltk_data] Downloading package stopwords to C:\\Users\\Pranab\n",
      "[nltk_data]     Tiwari\\AppData\\Roaming\\nltk_data...\n"
     ]
    },
    {
     "name": "stderr",
     "output_type": "stream",
     "text": [
      "[nltk_data]   Unzipping corpora\\stopwords.zip.\n"
     ]
    },
    {
     "data": {
      "text/plain": [
       "True"
      ]
     },
     "execution_count": 31,
     "metadata": {},
     "output_type": "execute_result"
    }
   ],
   "source": [
    "nltk.download(\"stopwords\")"
   ]
  },
  {
   "cell_type": "code",
   "execution_count": 32,
   "id": "9e5a6190-0515-417a-b9a6-99cea0197c78",
   "metadata": {},
   "outputs": [
    {
     "name": "stdout",
     "output_type": "stream",
     "text": [
      "198\n",
      "['a', 'about', 'above', 'after', 'again', 'against', 'ain', 'all', 'am', 'an', 'and', 'any', 'are', 'aren', \"aren't\", 'as', 'at', 'be', 'because', 'been', 'before', 'being', 'below', 'between', 'both', 'but', 'by', 'can', 'couldn', \"couldn't\", 'd', 'did', 'didn', \"didn't\", 'do', 'does', 'doesn', \"doesn't\", 'doing', 'don', \"don't\", 'down', 'during', 'each', 'few', 'for', 'from', 'further', 'had', 'hadn', \"hadn't\", 'has', 'hasn', \"hasn't\", 'have', 'haven', \"haven't\", 'having', 'he', \"he'd\", \"he'll\", 'her', 'here', 'hers', 'herself', \"he's\", 'him', 'himself', 'his', 'how', 'i', \"i'd\", 'if', \"i'll\", \"i'm\", 'in', 'into', 'is', 'isn', \"isn't\", 'it', \"it'd\", \"it'll\", \"it's\", 'its', 'itself', \"i've\", 'just', 'll', 'm', 'ma', 'me', 'mightn', \"mightn't\", 'more', 'most', 'mustn', \"mustn't\", 'my', 'myself', 'needn', \"needn't\", 'no', 'nor', 'not', 'now', 'o', 'of', 'off', 'on', 'once', 'only', 'or', 'other', 'our', 'ours', 'ourselves', 'out', 'over', 'own', 're', 's', 'same', 'shan', \"shan't\", 'she', \"she'd\", \"she'll\", \"she's\", 'should', 'shouldn', \"shouldn't\", \"should've\", 'so', 'some', 'such', 't', 'than', 'that', \"that'll\", 'the', 'their', 'theirs', 'them', 'themselves', 'then', 'there', 'these', 'they', \"they'd\", \"they'll\", \"they're\", \"they've\", 'this', 'those', 'through', 'to', 'too', 'under', 'until', 'up', 've', 'very', 'was', 'wasn', \"wasn't\", 'we', \"we'd\", \"we'll\", \"we're\", 'were', 'weren', \"weren't\", \"we've\", 'what', 'when', 'where', 'which', 'while', 'who', 'whom', 'why', 'will', 'with', 'won', \"won't\", 'wouldn', \"wouldn't\", 'y', 'you', \"you'd\", \"you'll\", 'your', \"you're\", 'yours', 'yourself', 'yourselves', \"you've\"]\n"
     ]
    }
   ],
   "source": [
    "print(len(stopwords.words(\"english\")))\n",
    "print(stopwords.words(\"english\"))\n"
   ]
  },
  {
   "cell_type": "code",
   "execution_count": 33,
   "id": "51fe616a-9c68-4422-989b-b0c92c27b916",
   "metadata": {},
   "outputs": [],
   "source": [
    "stopword=stopwords.words(\"english\")"
   ]
  },
  {
   "cell_type": "code",
   "execution_count": 34,
   "id": "f42d0d61-f320-4e2a-a7d1-e0aed156735f",
   "metadata": {},
   "outputs": [
    {
     "name": "stdout",
     "output_type": "stream",
     "text": [
      "hello\n",
      "name\n",
      "tarun\n",
      "mishra\n",
      ".\n",
      "currently\n",
      "btech\n",
      "4th\n",
      "year\n",
      ".\n",
      "summer\n",
      "internship\n",
      "data\n",
      "science\n",
      "ai\n",
      ".\n",
      "right\n",
      "freelancer\n"
     ]
    }
   ],
   "source": [
    "for i in token:\n",
    "    if i not in  stopwords.words(\"english\"):\n",
    "         print(i)"
   ]
  },
  {
   "cell_type": "code",
   "execution_count": null,
   "id": "7390bb81-c6bb-4f12-84cc-aa8106c8f568",
   "metadata": {},
   "outputs": [],
   "source": []
  },
  {
   "cell_type": "code",
   "execution_count": null,
   "id": "0cf8bd81-f523-4570-9c08-be68d62e4c80",
   "metadata": {},
   "outputs": [],
   "source": []
  }
 ],
 "metadata": {
  "kernelspec": {
   "display_name": "base",
   "language": "python",
   "name": "python3"
  },
  "language_info": {
   "codemirror_mode": {
    "name": "ipython",
    "version": 3
   },
   "file_extension": ".py",
   "mimetype": "text/x-python",
   "name": "python",
   "nbconvert_exporter": "python",
   "pygments_lexer": "ipython3",
   "version": "3.13.5"
  }
 },
 "nbformat": 4,
 "nbformat_minor": 5
}
