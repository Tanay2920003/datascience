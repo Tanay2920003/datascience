{
 "cells": [
  {
   "cell_type": "code",
   "execution_count": null,
   "id": "46cfb3b9",
   "metadata": {},
   "outputs": [],
   "source": [
    "import pandas as pd\n",
    "\n",
    "# Load your dataset\n",
    "df = pd.read_csv(\"your_file.csv\")  # replace with your filename\n",
    "\n",
    "# Step 1: Drop unnecessary index column (if exists)\n",
    "if 'Unnamed: 0' in df.columns:\n",
    "    df.drop(columns=['Unnamed: 0'], inplace=True)\n",
    "\n",
    "# Step 2: Convert date columns to datetime\n",
    "# Replace 'Latest_Launch' with your actual datetime column\n",
    "df['Latest_Launch'] = pd.to_datetime(df['Latest_Launch'], errors='coerce')\n",
    "\n",
    "# Step 3: Check missing values before imputation\n",
    "print(\"Missing values before handling:\")\n",
    "print(df.isnull().sum())\n",
    "\n",
    "# Step 4: Fill numeric missing values with mean\n",
    "numeric_cols = df.select_dtypes(include='number').columns\n",
    "for col in numeric_cols:\n",
    "    df[col].fillna(df[col].mean(), inplace=True)\n",
    "\n",
    "# Step 5: Check missing values after imputation\n",
    "print(\"\\nMissing values after handling:\")\n",
    "print(df.isnull().sum())\n"
   ]
  }
 ],
 "metadata": {
  "language_info": {
   "name": "python"
  }
 },
 "nbformat": 4,
 "nbformat_minor": 5
}
