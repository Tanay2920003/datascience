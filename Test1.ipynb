{
 "cells": [
  {
   "cell_type": "code",
   "execution_count": 1,
   "id": "05e07374",
   "metadata": {},
   "outputs": [],
   "source": [
    "import pandas as pd\n",
    "import numpy as np\n",
    "import seaborn as sns\n",
    "import matplotlib.pyplot as plt\n",
    "from sklearn.model_selection import train_test_split\n",
    "from sklearn.linear_model import LogisticRegression\n",
    "import warnings\n",
    "warnings.filterwarnings(\"ignore\")"
   ]
  },
  {
   "cell_type": "code",
   "execution_count": 2,
   "id": "b2689051",
   "metadata": {},
   "outputs": [],
   "source": [
    "df = pd.read_csv(\"./electric_vehicles_spec_2025.csv\")"
   ]
  },
  {
   "cell_type": "code",
   "execution_count": 24,
   "id": "6206324c",
   "metadata": {},
   "outputs": [
    {
     "data": {
      "text/plain": [
       "brand                          0\n",
       "model                          1\n",
       "top_speed_kmh                  0\n",
       "battery_capacity_kWh           0\n",
       "battery_type                   0\n",
       "number_of_cells              202\n",
       "torque_nm                      7\n",
       "efficiency_wh_per_km           0\n",
       "range_km                       0\n",
       "acceleration_0_100_s           0\n",
       "fast_charging_power_kw_dc      1\n",
       "fast_charge_port               1\n",
       "towing_capacity_kg            26\n",
       "cargo_volume_l                 1\n",
       "seats                          0\n",
       "drivetrain                     0\n",
       "segment                        0\n",
       "length_mm                      0\n",
       "width_mm                       0\n",
       "height_mm                      0\n",
       "car_body_type                  0\n",
       "source_url                     0\n",
       "dtype: int64"
      ]
     },
     "execution_count": 24,
     "metadata": {},
     "output_type": "execute_result"
    }
   ],
   "source": [
    "df.isnull().sum()"
   ]
  },
  {
   "cell_type": "code",
   "execution_count": 3,
   "id": "8cb1c411",
   "metadata": {},
   "outputs": [
    {
     "data": {
      "text/html": [
       "<div>\n",
       "<style scoped>\n",
       "    .dataframe tbody tr th:only-of-type {\n",
       "        vertical-align: middle;\n",
       "    }\n",
       "\n",
       "    .dataframe tbody tr th {\n",
       "        vertical-align: top;\n",
       "    }\n",
       "\n",
       "    .dataframe thead th {\n",
       "        text-align: right;\n",
       "    }\n",
       "</style>\n",
       "<table border=\"1\" class=\"dataframe\">\n",
       "  <thead>\n",
       "    <tr style=\"text-align: right;\">\n",
       "      <th></th>\n",
       "      <th>brand</th>\n",
       "      <th>model</th>\n",
       "      <th>top_speed_kmh</th>\n",
       "      <th>battery_capacity_kWh</th>\n",
       "      <th>battery_type</th>\n",
       "      <th>number_of_cells</th>\n",
       "      <th>torque_nm</th>\n",
       "      <th>efficiency_wh_per_km</th>\n",
       "      <th>range_km</th>\n",
       "      <th>acceleration_0_100_s</th>\n",
       "      <th>...</th>\n",
       "      <th>towing_capacity_kg</th>\n",
       "      <th>cargo_volume_l</th>\n",
       "      <th>seats</th>\n",
       "      <th>drivetrain</th>\n",
       "      <th>segment</th>\n",
       "      <th>length_mm</th>\n",
       "      <th>width_mm</th>\n",
       "      <th>height_mm</th>\n",
       "      <th>car_body_type</th>\n",
       "      <th>source_url</th>\n",
       "    </tr>\n",
       "  </thead>\n",
       "  <tbody>\n",
       "    <tr>\n",
       "      <th>0</th>\n",
       "      <td>Abarth</td>\n",
       "      <td>500e Convertible</td>\n",
       "      <td>155</td>\n",
       "      <td>37.8</td>\n",
       "      <td>Lithium-ion</td>\n",
       "      <td>192.0</td>\n",
       "      <td>235.0</td>\n",
       "      <td>156</td>\n",
       "      <td>225</td>\n",
       "      <td>7.0</td>\n",
       "      <td>...</td>\n",
       "      <td>0.0</td>\n",
       "      <td>185</td>\n",
       "      <td>4</td>\n",
       "      <td>FWD</td>\n",
       "      <td>B - Compact</td>\n",
       "      <td>3673</td>\n",
       "      <td>1683</td>\n",
       "      <td>1518</td>\n",
       "      <td>Hatchback</td>\n",
       "      <td>https://ev-database.org/car/1904/Abarth-500e-C...</td>\n",
       "    </tr>\n",
       "    <tr>\n",
       "      <th>1</th>\n",
       "      <td>Abarth</td>\n",
       "      <td>500e Hatchback</td>\n",
       "      <td>155</td>\n",
       "      <td>37.8</td>\n",
       "      <td>Lithium-ion</td>\n",
       "      <td>192.0</td>\n",
       "      <td>235.0</td>\n",
       "      <td>149</td>\n",
       "      <td>225</td>\n",
       "      <td>7.0</td>\n",
       "      <td>...</td>\n",
       "      <td>0.0</td>\n",
       "      <td>185</td>\n",
       "      <td>4</td>\n",
       "      <td>FWD</td>\n",
       "      <td>B - Compact</td>\n",
       "      <td>3673</td>\n",
       "      <td>1683</td>\n",
       "      <td>1518</td>\n",
       "      <td>Hatchback</td>\n",
       "      <td>https://ev-database.org/car/1903/Abarth-500e-H...</td>\n",
       "    </tr>\n",
       "    <tr>\n",
       "      <th>2</th>\n",
       "      <td>Abarth</td>\n",
       "      <td>600e Scorpionissima</td>\n",
       "      <td>200</td>\n",
       "      <td>50.8</td>\n",
       "      <td>Lithium-ion</td>\n",
       "      <td>102.0</td>\n",
       "      <td>345.0</td>\n",
       "      <td>158</td>\n",
       "      <td>280</td>\n",
       "      <td>5.9</td>\n",
       "      <td>...</td>\n",
       "      <td>0.0</td>\n",
       "      <td>360</td>\n",
       "      <td>5</td>\n",
       "      <td>FWD</td>\n",
       "      <td>JB - Compact</td>\n",
       "      <td>4187</td>\n",
       "      <td>1779</td>\n",
       "      <td>1557</td>\n",
       "      <td>SUV</td>\n",
       "      <td>https://ev-database.org/car/3057/Abarth-600e-S...</td>\n",
       "    </tr>\n",
       "    <tr>\n",
       "      <th>3</th>\n",
       "      <td>Abarth</td>\n",
       "      <td>600e Turismo</td>\n",
       "      <td>200</td>\n",
       "      <td>50.8</td>\n",
       "      <td>Lithium-ion</td>\n",
       "      <td>102.0</td>\n",
       "      <td>345.0</td>\n",
       "      <td>158</td>\n",
       "      <td>280</td>\n",
       "      <td>6.2</td>\n",
       "      <td>...</td>\n",
       "      <td>0.0</td>\n",
       "      <td>360</td>\n",
       "      <td>5</td>\n",
       "      <td>FWD</td>\n",
       "      <td>JB - Compact</td>\n",
       "      <td>4187</td>\n",
       "      <td>1779</td>\n",
       "      <td>1557</td>\n",
       "      <td>SUV</td>\n",
       "      <td>https://ev-database.org/car/3056/Abarth-600e-T...</td>\n",
       "    </tr>\n",
       "    <tr>\n",
       "      <th>4</th>\n",
       "      <td>Aiways</td>\n",
       "      <td>U5</td>\n",
       "      <td>150</td>\n",
       "      <td>60.0</td>\n",
       "      <td>Lithium-ion</td>\n",
       "      <td>NaN</td>\n",
       "      <td>310.0</td>\n",
       "      <td>156</td>\n",
       "      <td>315</td>\n",
       "      <td>7.5</td>\n",
       "      <td>...</td>\n",
       "      <td>NaN</td>\n",
       "      <td>496</td>\n",
       "      <td>5</td>\n",
       "      <td>FWD</td>\n",
       "      <td>JC - Medium</td>\n",
       "      <td>4680</td>\n",
       "      <td>1865</td>\n",
       "      <td>1700</td>\n",
       "      <td>SUV</td>\n",
       "      <td>https://ev-database.org/car/1678/Aiways-U5</td>\n",
       "    </tr>\n",
       "  </tbody>\n",
       "</table>\n",
       "<p>5 rows × 22 columns</p>\n",
       "</div>"
      ],
      "text/plain": [
       "    brand                model  top_speed_kmh  battery_capacity_kWh  \\\n",
       "0  Abarth     500e Convertible            155                  37.8   \n",
       "1  Abarth       500e Hatchback            155                  37.8   \n",
       "2  Abarth  600e Scorpionissima            200                  50.8   \n",
       "3  Abarth         600e Turismo            200                  50.8   \n",
       "4  Aiways                   U5            150                  60.0   \n",
       "\n",
       "  battery_type  number_of_cells  torque_nm  efficiency_wh_per_km  range_km  \\\n",
       "0  Lithium-ion            192.0      235.0                   156       225   \n",
       "1  Lithium-ion            192.0      235.0                   149       225   \n",
       "2  Lithium-ion            102.0      345.0                   158       280   \n",
       "3  Lithium-ion            102.0      345.0                   158       280   \n",
       "4  Lithium-ion              NaN      310.0                   156       315   \n",
       "\n",
       "   acceleration_0_100_s  ...  towing_capacity_kg cargo_volume_l  seats  \\\n",
       "0                   7.0  ...                 0.0            185      4   \n",
       "1                   7.0  ...                 0.0            185      4   \n",
       "2                   5.9  ...                 0.0            360      5   \n",
       "3                   6.2  ...                 0.0            360      5   \n",
       "4                   7.5  ...                 NaN            496      5   \n",
       "\n",
       "  drivetrain       segment length_mm width_mm  height_mm  car_body_type  \\\n",
       "0        FWD   B - Compact      3673     1683       1518      Hatchback   \n",
       "1        FWD   B - Compact      3673     1683       1518      Hatchback   \n",
       "2        FWD  JB - Compact      4187     1779       1557            SUV   \n",
       "3        FWD  JB - Compact      4187     1779       1557            SUV   \n",
       "4        FWD   JC - Medium      4680     1865       1700            SUV   \n",
       "\n",
       "                                          source_url  \n",
       "0  https://ev-database.org/car/1904/Abarth-500e-C...  \n",
       "1  https://ev-database.org/car/1903/Abarth-500e-H...  \n",
       "2  https://ev-database.org/car/3057/Abarth-600e-S...  \n",
       "3  https://ev-database.org/car/3056/Abarth-600e-T...  \n",
       "4         https://ev-database.org/car/1678/Aiways-U5  \n",
       "\n",
       "[5 rows x 22 columns]"
      ]
     },
     "execution_count": 3,
     "metadata": {},
     "output_type": "execute_result"
    }
   ],
   "source": [
    "df.head()"
   ]
  },
  {
   "cell_type": "code",
   "execution_count": 4,
   "id": "0dd10b20",
   "metadata": {},
   "outputs": [
    {
     "data": {
      "text/plain": [
       "brand\n",
       "Mercedes-Benz    42\n",
       "Audi             28\n",
       "Porsche          26\n",
       "Volkswagen       23\n",
       "Ford             22\n",
       "BMW              20\n",
       "Peugeot          19\n",
       "Volvo            18\n",
       "BYD              17\n",
       "Smart            17\n",
       "Kia              16\n",
       "Opel             14\n",
       "Hyundai          14\n",
       "Skoda            12\n",
       "MG               12\n",
       "NIO              12\n",
       "Citroen          12\n",
       "Renault          11\n",
       "Tesla            11\n",
       "Polestar          9\n",
       "XPENG             9\n",
       "Zeekr             9\n",
       "Fiat              8\n",
       "Mini              8\n",
       "Toyota            7\n",
       "Nissan            6\n",
       "Lotus             6\n",
       "GWM               6\n",
       "Genesis           5\n",
       "DS                5\n",
       "CUPRA             5\n",
       "Abarth            4\n",
       "Lucid             3\n",
       "Hongqi            3\n",
       "Maserati          3\n",
       "Lexus             3\n",
       "Alfa              2\n",
       "Aiways            2\n",
       "Alpine            2\n",
       "Leapmotor         2\n",
       "Jeep              2\n",
       "Dacia             2\n",
       "VinFast           2\n",
       "Mazda             2\n",
       "Skywell           2\n",
       "Dongfeng          2\n",
       "Elaris            1\n",
       "Voyah             1\n",
       "Cadillac          1\n",
       "Maxus             1\n",
       "Subaru            1\n",
       "Honda             1\n",
       "Rolls-Royce       1\n",
       "Jaguar            1\n",
       "KGM               1\n",
       "Lancia            1\n",
       "Omoda             1\n",
       "Lynk&Co           1\n",
       "firefly           1\n",
       "Name: count, dtype: int64"
      ]
     },
     "execution_count": 4,
     "metadata": {},
     "output_type": "execute_result"
    }
   ],
   "source": [
    "df[\"brand\"].value_counts()"
   ]
  },
  {
   "cell_type": "code",
   "execution_count": 5,
   "id": "3028e34d",
   "metadata": {},
   "outputs": [
    {
     "data": {
      "text/plain": [
       "np.float64(5.487447698744774)"
      ]
     },
     "execution_count": 5,
     "metadata": {},
     "output_type": "execute_result"
    }
   ],
   "source": [
    "df[\"top_speed_kmh\"].mean()- df[\"top_speed_kmh\"].median()"
   ]
  },
  {
   "cell_type": "code",
   "execution_count": 49,
   "id": "c3c8fbb8",
   "metadata": {},
   "outputs": [
    {
     "data": {
      "text/plain": [
       "250"
      ]
     },
     "execution_count": 49,
     "metadata": {},
     "output_type": "execute_result"
    }
   ],
   "source": [
    "df[df['brand'] == 'Mercedes-Benz']['top_speed_kmh'].max()"
   ]
  },
  {
   "cell_type": "code",
   "execution_count": null,
   "id": "3c18bc90",
   "metadata": {},
   "outputs": [
    {
     "data": {
      "text/plain": [
       "brand\n",
       "Abarth      155\n",
       "Aiways      150\n",
       "Alfa        150\n",
       "Alpine      160\n",
       "Audi        160\n",
       "BMW         170\n",
       "BYD         150\n",
       "CUPRA       160\n",
       "Cadillac    210\n",
       "Citroen     130\n",
       "Name: top_speed_kmh, dtype: int64"
      ]
     },
     "execution_count": 42,
     "metadata": {},
     "output_type": "execute_result"
    }
   ],
   "source": [
    "df.groupby('brand')['top_speed_kmh'].min()\n"
   ]
  },
  {
   "cell_type": "code",
   "execution_count": 8,
   "id": "460f8992",
   "metadata": {},
   "outputs": [
    {
     "data": {
      "text/plain": [
       "brand\n",
       "Abarth           149\n",
       "Aiways           150\n",
       "Alfa             128\n",
       "Alpine           138\n",
       "Audi             136\n",
       "BMW              147\n",
       "BYD              132\n",
       "CUPRA            142\n",
       "Cadillac         192\n",
       "Citroen          119\n",
       "DS               128\n",
       "Dacia            109\n",
       "Dongfeng         126\n",
       "Elaris           203\n",
       "Fiat             112\n",
       "Ford             126\n",
       "GWM              141\n",
       "Genesis          143\n",
       "Honda            150\n",
       "Hongqi           193\n",
       "Hyundai          117\n",
       "Jaguar           208\n",
       "Jeep             132\n",
       "KGM              156\n",
       "Kia              124\n",
       "Lancia           122\n",
       "Leapmotor        136\n",
       "Lexus            145\n",
       "Lotus            198\n",
       "Lucid            130\n",
       "Lynk&Co          149\n",
       "MG               134\n",
       "Maserati         182\n",
       "Maxus            195\n",
       "Mazda            136\n",
       "Mercedes-Benz    122\n",
       "Mini             125\n",
       "NIO              167\n",
       "Nissan           158\n",
       "Omoda            152\n",
       "Opel             120\n",
       "Peugeot          120\n",
       "Polestar         129\n",
       "Porsche          164\n",
       "Renault          124\n",
       "Rolls-Royce      192\n",
       "Skoda            138\n",
       "Skywell          149\n",
       "Smart            136\n",
       "Subaru           154\n",
       "Tesla            116\n",
       "Toyota           145\n",
       "VinFast          186\n",
       "Volkswagen       125\n",
       "Volvo            135\n",
       "Voyah            200\n",
       "XPENG            144\n",
       "Zeekr            146\n",
       "firefly          125\n",
       "Name: efficiency_wh_per_km, dtype: int64"
      ]
     },
     "execution_count": 8,
     "metadata": {},
     "output_type": "execute_result"
    }
   ],
   "source": [
    "df.groupby('brand')['efficiency_wh_per_km'].min()"
   ]
  },
  {
   "cell_type": "code",
   "execution_count": 40,
   "id": "0003aa24",
   "metadata": {},
   "outputs": [
    {
     "data": {
      "text/plain": [
       "brand\n",
       "Abarth            50.8\n",
       "Aiways            60.0\n",
       "Alfa              50.8\n",
       "Alpine            52.0\n",
       "Audi              97.0\n",
       "BMW              109.1\n",
       "BYD              108.8\n",
       "CUPRA             79.0\n",
       "Cadillac         102.0\n",
       "Citroen           68.0\n",
       "DS                97.2\n",
       "Dacia             25.0\n",
       "Dongfeng          40.0\n",
       "Elaris            81.0\n",
       "Fiat              50.8\n",
       "Ford              91.0\n",
       "GWM               83.5\n",
       "Genesis           82.5\n",
       "Honda             61.9\n",
       "Hongqi           112.0\n",
       "Hyundai          106.0\n",
       "Jaguar            84.7\n",
       "Jeep              74.0\n",
       "KGM               72.0\n",
       "Kia               96.0\n",
       "Lancia            48.1\n",
       "Leapmotor         69.9\n",
       "Lexus             64.0\n",
       "Lotus            109.0\n",
       "Lucid            112.0\n",
       "Lynk&Co           65.0\n",
       "MG                74.4\n",
       "Maserati          95.0\n",
       "Maxus             84.0\n",
       "Mazda             75.0\n",
       "Mercedes-Benz    118.0\n",
       "Mini              64.6\n",
       "NIO               90.0\n",
       "Nissan            87.0\n",
       "Omoda             61.0\n",
       "Opel              82.2\n",
       "Peugeot           96.9\n",
       "Polestar         107.0\n",
       "Porsche           97.0\n",
       "Renault           87.0\n",
       "Rolls-Royce      102.0\n",
       "Skoda             79.0\n",
       "Skywell           81.0\n",
       "Smart             94.0\n",
       "Subaru            64.0\n",
       "Tesla             95.0\n",
       "Toyota            68.0\n",
       "VinFast           87.7\n",
       "Volkswagen        86.0\n",
       "Volvo            107.0\n",
       "Voyah            100.0\n",
       "XPENG             93.1\n",
       "Zeekr             94.0\n",
       "firefly           41.2\n",
       "Name: battery_capacity_kWh, dtype: float64"
      ]
     },
     "execution_count": 40,
     "metadata": {},
     "output_type": "execute_result"
    }
   ],
   "source": [
    "df.groupby('brand')['battery_capacity_kWh'].max()"
   ]
  },
  {
   "cell_type": "code",
   "execution_count": 38,
   "id": "7bdd9f07",
   "metadata": {},
   "outputs": [
    {
     "data": {
      "text/plain": [
       "brand\n",
       "Mercedes-Benz    118.0\n",
       "Lucid            112.0\n",
       "Hongqi           112.0\n",
       "BMW              109.1\n",
       "Lotus            109.0\n",
       "BYD              108.8\n",
       "Volvo            107.0\n",
       "Polestar         107.0\n",
       "Hyundai          106.0\n",
       "Cadillac         102.0\n",
       "Name: battery_capacity_kWh, dtype: float64"
      ]
     },
     "execution_count": 38,
     "metadata": {},
     "output_type": "execute_result"
    }
   ],
   "source": [
    "# Get top 10 brands by average battery capacity\n",
    "df.groupby('brand')['battery_capacity_kWh'].max().sort_values(ascending=False).head(10)\n"
   ]
  },
  {
   "cell_type": "code",
   "execution_count": 34,
   "id": "b5e8ab87",
   "metadata": {},
   "outputs": [
    {
     "data": {
      "text/plain": [
       "(478, 22)"
      ]
     },
     "execution_count": 34,
     "metadata": {},
     "output_type": "execute_result"
    }
   ],
   "source": [
    "df.shape"
   ]
  },
  {
   "cell_type": "code",
   "execution_count": 22,
   "id": "b9b52c91",
   "metadata": {},
   "outputs": [
    {
     "name": "stdout",
     "output_type": "stream",
     "text": [
      "10th brand: VinFast with average battery_capacity_kWh: 87.7\n"
     ]
    }
   ],
   "source": [
    "# Get the 10th brand by average battery capacity\n",
    "tenth_brand = top_10_brands.iloc[-1]\n",
    "print(\"10th brand:\", top_10_brands.index[-1], \"with average battery_capacity_kWh:\", tenth_brand)"
   ]
  },
  {
   "cell_type": "code",
   "execution_count": 27,
   "id": "29d35e55",
   "metadata": {},
   "outputs": [],
   "source": [
    "def IQR(x):\n",
    "    q1 = x.quantile(0.25)\n",
    "    q3 = x.quantile(0.75)\n",
    "    iqr = q3 - q1\n",
    "    LF = q1-(1.5*iqr)\n",
    "    UF = q3+(1.5*iqr)\n",
    "    print(\"LF-->\",LF)\n",
    "    print(\"UF-->\",UF)"
   ]
  },
  {
   "cell_type": "code",
   "execution_count": 31,
   "id": "798ab7e6",
   "metadata": {},
   "outputs": [
    {
     "name": "stdout",
     "output_type": "stream",
     "text": [
      "LF--> 108.0\n",
      "UF--> 396.0\n"
     ]
    }
   ],
   "source": [
    "IQR(df[\"number_of_cells\"])"
   ]
  },
  {
   "cell_type": "code",
   "execution_count": 30,
   "id": "781be020",
   "metadata": {},
   "outputs": [],
   "source": [
    "df[\"number_of_cells\"].fillna(df[\"number_of_cells\"].median(), inplace= True)"
   ]
  },
  {
   "cell_type": "code",
   "execution_count": null,
   "id": "5bd48b4b",
   "metadata": {},
   "outputs": [
    {
     "name": "stdout",
     "output_type": "stream",
     "text": [
      "3rd brand: Lancia with efficiency_wh_per_km: 122\n"
     ]
    }
   ],
   "source": []
  },
  {
   "cell_type": "code",
   "execution_count": null,
   "id": "49b695d9",
   "metadata": {},
   "outputs": [],
   "source": []
  }
 ],
 "metadata": {
  "kernelspec": {
   "display_name": "base",
   "language": "python",
   "name": "python3"
  },
  "language_info": {
   "codemirror_mode": {
    "name": "ipython",
    "version": 3
   },
   "file_extension": ".py",
   "mimetype": "text/x-python",
   "name": "python",
   "nbconvert_exporter": "python",
   "pygments_lexer": "ipython3",
   "version": "3.13.5"
  }
 },
 "nbformat": 4,
 "nbformat_minor": 5
}
